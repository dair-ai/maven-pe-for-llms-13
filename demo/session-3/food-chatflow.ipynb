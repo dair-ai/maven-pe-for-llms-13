{
 "cells": [
  {
   "cell_type": "markdown",
   "metadata": {},
   "source": [
    "## Food Chatbot Using Prompt Chaining\n",
    "\n",
    "Original food chatbot implemented with prompt chaining."
   ]
  },
  {
   "cell_type": "code",
   "execution_count": 1,
   "metadata": {},
   "outputs": [],
   "source": [
    "import openai\n",
    "import os\n",
    "from dotenv import load_dotenv\n",
    "import IPython\n",
    "\n",
    "load_dotenv()\n",
    "\n",
    "client = openai.OpenAI(api_key=os.getenv(\"OPENAI_API_KEY\"))\n",
    "\n",
    "def generate_response(prompt):\n",
    "    response = client.chat.completions.create(\n",
    "        model=\"gpt-4o\",\n",
    "    messages=[\n",
    "        {\"role\": \"user\", \"content\": prompt}\n",
    "    ]\n",
    ")\n",
    "\n",
    "    return response.choices[0].message.content"
   ]
  },
  {
   "cell_type": "markdown",
   "metadata": {},
   "source": []
  },
  {
   "cell_type": "code",
   "execution_count": 2,
   "metadata": {},
   "outputs": [],
   "source": [
    "menu_items = \"\"\"\n",
    "Menu: Kids Menu    \n",
    "Food Item: Mini Cheeseburger\n",
    "Price: $6.99\n",
    "Vegan: N\n",
    "Popularity: 4/5\n",
    "Included: Mini beef patty, cheese, lettuce, tomato, and fries.\n",
    "\n",
    "Menu: Appetizers\n",
    "Food Item: Loaded Potato Skins\n",
    "Price: $8.99\n",
    "Vegan: N\n",
    "Popularity: 3/5\n",
    "Included: Crispy potato skins filled with cheese, bacon bits, and served with sour cream.\n",
    "\n",
    "Menu: Appetizers\n",
    "Food Item: Bruschetta\n",
    "Price: $7.99\n",
    "Vegan: Y\n",
    "Popularity: 4/5\n",
    "Included: Toasted baguette slices topped with fresh tomatoes, basil, garlic, and balsamic glaze.\n",
    "\n",
    "Menu: Main Menu\n",
    "Food Item: Grilled Chicken Caesar Salad\n",
    "Price: $12.99\n",
    "Vegan: N\n",
    "Popularity: 4/5\n",
    "Included: Grilled chicken breast, romaine lettuce, Parmesan cheese, croutons, and Caesar dressing.\n",
    "\n",
    "Menu: Main Menu\n",
    "Food Item: Classic Cheese Pizza\n",
    "Price: $10.99\n",
    "Vegan: N\n",
    "Popularity: 5/5\n",
    "Included: Thin-crust pizza topped with tomato sauce, mozzarella cheese, and fresh basil.\n",
    "\n",
    "Menu: Main Menu\n",
    "Food Item: Spaghetti Bolognese\n",
    "Price: $14.99\n",
    "Vegan: N\n",
    "Popularity: 4/5\n",
    "Included: Pasta tossed in a savory meat sauce made with ground beef, tomatoes, onions, and herbs.\n",
    "\n",
    "Menu: Vegan Options\n",
    "Food Item: Veggie Wrap\n",
    "Price: $9.99\n",
    "Vegan: Y\n",
    "Popularity: 3/5\n",
    "Included: Grilled vegetables, hummus, mixed greens, and a wrap served with a side of sweet potato fries.\n",
    "\n",
    "Menu: Vegan Options\n",
    "Food Item: Vegan Beyond Burger\n",
    "Price: $11.99\n",
    "Vegan: Y\n",
    "Popularity: 4/5\n",
    "Included: Plant-based patty, vegan cheese, lettuce, tomato, onion, and a choice of regular or sweet potato fries.\n",
    "\n",
    "Menu: Desserts\n",
    "Food Item: Chocolate Lava Cake\n",
    "Price: $6.99\n",
    "Vegan: N\n",
    "Popularity: 5/5\n",
    "Included: Warm chocolate cake with a gooey molten center, served with vanilla ice cream.\n",
    "\n",
    "Menu: Desserts\n",
    "Food Item: Fresh Berry Parfait\n",
    "Price: $5.99\n",
    "Vegan: Y\n",
    "Popularity: 4/5\n",
    "Included: Layers of mixed berries, granola, and vegan coconut yogurt.\n",
    "\"\"\""
   ]
  },
  {
   "cell_type": "code",
   "execution_count": 3,
   "metadata": {},
   "outputs": [],
   "source": [
    "def reasoning_step(user_query, menu_items):\n",
    "    prompt_template = \"\"\"\n",
    "    Your task is to answer questions factually about a food menu, provided below and delimited by +++++. The user request is provided here: {request}\n",
    "\n",
    "    Step 1: The first step is to check if the user is asking a question related to any type of food (even if that food item is not on the menu). If the question is about any type of food, we move on to Step 2 and ignore the rest of Step 1. If the question is not about food, then we send a response: \"Sorry! I cannot help with that. Please let me know if you have a question about our food menu.\"\n",
    "\n",
    "    Step 2: In this step, we check that the user question is relevant to any of the items on the food menu. You should check that the food item exists in our menu first. If it doesn't exist then send a kind response to the user that the item doesn't exist in our menu and then include a list of available but similar food items without any other details (e.g., price). The food items available are provided below and delimited by +++++:\n",
    "\n",
    "    +++++\n",
    "    {menu_items}\n",
    "    +++++\n",
    "\n",
    "    Step 3: If the item exists in our food menu and the user is requesting specific information, provide that relevant information to the user using the food menu. Make sure to use a friendly tone and keep the response concise.\n",
    "\n",
    "    Perform the following reasoning steps to send a response to the user:\n",
    "    Step 1: <Step 1 reasoning>\n",
    "    Step 2: <Step 2 reasoning>\n",
    "    Response to the user (only output the final response): <response to user>\n",
    "    \"\"\"\n",
    "\n",
    "    prompt = prompt_template.format(request=user_query, menu_items=menu_items)\n",
    "    response = generate_response(prompt)\n",
    "    return response"
   ]
  },
  {
   "cell_type": "code",
   "execution_count": 4,
   "metadata": {},
   "outputs": [],
   "source": [
    "def extraction_step(reasoning):\n",
    "    prompt_template = \"\"\"\n",
    "    Extract the final response from delimited by ###.\n",
    "\n",
    "    ###\n",
    "    {reasoning}. \n",
    "    ###\n",
    "\n",
    "    Only output what comes after \"Response to the user:\".\n",
    "    \"\"\"\n",
    "\n",
    "    prompt = prompt_template.format(reasoning=reasoning)\n",
    "    response = generate_response(prompt)\n",
    "    return response"
   ]
  },
  {
   "cell_type": "code",
   "execution_count": 5,
   "metadata": {},
   "outputs": [],
   "source": [
    "def refinement_step(final_response):\n",
    "    prompt_template = \"\"\"\n",
    "    Perform the following refinement steps on the final output delimited by ###.\n",
    "\n",
    "    1). Shorten the text to one sentence\n",
    "    2). Use a friendly tone\n",
    "\n",
    "    ###\n",
    "    {final_response}\n",
    "    ###\n",
    "    \"\"\"\n",
    "\n",
    "    prompt = prompt_template.format(final_response=final_response)\n",
    "    response = generate_response(prompt)\n",
    "    return response"
   ]
  },
  {
   "cell_type": "code",
   "execution_count": 6,
   "metadata": {},
   "outputs": [],
   "source": [
    "def verification_step(user_question, refined_response, menu_items):\n",
    "    prompt_template = \"\"\"\n",
    "    Your task is to check that the refined response (delimited by ###) is providing a factual response based on the user question (delimited by @@@) and the menu below (delimited by +++++). If yes, just output the refined response in its original form (without the delimiters). If no, then make the correction to the response and return the new response only.\n",
    "\n",
    "    User question: @@@ {user_question} @@@\n",
    "\n",
    "    Refined response: ### {refined_response} ###\n",
    "\n",
    "    +++++\n",
    "    {menu_items}\n",
    "    +++++\n",
    "    \"\"\"\n",
    "\n",
    "    prompt = prompt_template.format(user_question=user_question, refined_response=refined_response, menu_items=menu_items)\n",
    "    response = generate_response(prompt)\n",
    "    return response"
   ]
  },
  {
   "cell_type": "code",
   "execution_count": 7,
   "metadata": {},
   "outputs": [
    {
     "data": {
      "text/markdown": [
       "We don't have a \"cheeseburger\" on the menu, but you're sure to love our \"Mini Cheeseburger\" priced at $6.99!"
      ],
      "text/plain": [
       "<IPython.core.display.Markdown object>"
      ]
     },
     "execution_count": 7,
     "metadata": {},
     "output_type": "execute_result"
    }
   ],
   "source": [
    "def generate_food_chatbot(user_query, menu_items):\n",
    "    reasoning = reasoning_step(user_query, menu_items)\n",
    "    extraction = extraction_step(reasoning)\n",
    "    refinement = refinement_step(extraction)\n",
    "    verification = verification_step(user_query, refinement, menu_items)\n",
    "    return IPython.display.Markdown(verification)\n",
    "\n",
    "#generate_food_chatbot(\"I'm looking for a restaurant in the center of the city.\")\n",
    "generate_food_chatbot(\"What is the price of the cheeseburger?\", menu_items)"
   ]
  },
  {
   "cell_type": "code",
   "execution_count": null,
   "metadata": {},
   "outputs": [],
   "source": []
  }
 ],
 "metadata": {
  "kernelspec": {
   "display_name": "comet-eval",
   "language": "python",
   "name": "python3"
  },
  "language_info": {
   "codemirror_mode": {
    "name": "ipython",
    "version": 3
   },
   "file_extension": ".py",
   "mimetype": "text/x-python",
   "name": "python",
   "nbconvert_exporter": "python",
   "pygments_lexer": "ipython3",
   "version": "3.9.18"
  }
 },
 "nbformat": 4,
 "nbformat_minor": 2
}
